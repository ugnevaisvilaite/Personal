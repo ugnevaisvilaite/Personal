{
 "cells": [
  {
   "cell_type": "code",
   "execution_count": 11,
   "metadata": {},
   "outputs": [],
   "source": [
    "import requests\n",
    "from bs4 import BeautifulSoup"
   ]
  },
  {
   "cell_type": "code",
   "execution_count": 12,
   "metadata": {},
   "outputs": [
    {
     "name": "stdout",
     "output_type": "stream",
     "text": [
      "200\n"
     ]
    }
   ],
   "source": [
    "l=list()\n",
    "o={}\n",
    "\n",
    "headers={\"User-Agent\":\"Mozilla/5.0 (Windows NT 10.0; Win64; x64) AppleWebKit/537.36 (KHTML, like Gecko) Chrome/107.0.0.0 Safari/537.36\"}\n",
    "\n",
    "target_url = \"https://www.booking.com/hotel/us/the-lenox.html?checkin=2022-12-28&checkout=2022-12-29&group_adults=2&group_children=0&no_rooms=1&selected_currency=USD\"\n",
    "\n",
    "resp = requests.get(target_url, headers=headers)\n",
    "\n",
    "print(resp.status_code)"
   ]
  },
  {
   "cell_type": "code",
   "execution_count": 13,
   "metadata": {},
   "outputs": [],
   "source": [
    "soup = BeautifulSoup(resp.text, \"html.parser\")"
   ]
  },
  {
   "cell_type": "code",
   "execution_count": 14,
   "metadata": {},
   "outputs": [
    {
     "data": {
      "text/plain": [
       "{'name': 'The Lenox'}"
      ]
     },
     "execution_count": 14,
     "metadata": {},
     "output_type": "execute_result"
    }
   ],
   "source": [
    "o[\"name\"]=soup.find(\"h2\",{\"class\":\"pp-header__title\"}).text\n",
    "o"
   ]
  },
  {
   "cell_type": "code",
   "execution_count": 15,
   "metadata": {},
   "outputs": [
    {
     "data": {
      "text/plain": [
       "{'name': 'The Lenox',\n",
       " 'address': '61 Exeter Street, Back Bay, Boston, MA 02116, United States'}"
      ]
     },
     "execution_count": 15,
     "metadata": {},
     "output_type": "execute_result"
    }
   ],
   "source": [
    "o[\"address\"]=soup.find(\"span\",{\"class\":\"hp_address_subtitle\"}).text.strip(\"\\n\")\n",
    "o"
   ]
  },
  {
   "cell_type": "code",
   "execution_count": 16,
   "metadata": {},
   "outputs": [
    {
     "data": {
      "text/plain": [
       "{'name': 'The Lenox',\n",
       " 'address': '61 Exeter Street, Back Bay, Boston, MA 02116, United States',\n",
       " 'rating': '9.1'}"
      ]
     },
     "execution_count": 16,
     "metadata": {},
     "output_type": "execute_result"
    }
   ],
   "source": [
    "o[\"rating\"]=soup.find(\"div\",{\"class\":\"d10a6220b4\"}).text\n",
    "o"
   ]
  },
  {
   "cell_type": "code",
   "execution_count": 18,
   "metadata": {},
   "outputs": [
    {
     "data": {
      "text/plain": [
       "['Non-smoking rooms',\n",
       " 'Restaurant',\n",
       " 'Room service',\n",
       " 'Fitness centre',\n",
       " 'Private parking',\n",
       " 'Facilities for disabled guests',\n",
       " 'Bar',\n",
       " 'Non-smoking rooms',\n",
       " 'Restaurant',\n",
       " 'Room service',\n",
       " 'Fitness centre',\n",
       " 'Private parking',\n",
       " 'Facilities for disabled guests',\n",
       " 'Bar']"
      ]
     },
     "execution_count": 18,
     "metadata": {},
     "output_type": "execute_result"
    }
   ],
   "source": [
    "fac=soup.find_all(\"div\",{\"class\":\"important_facility\"})\n",
    "fac_arr = []\n",
    "for i in range(0,len(fac)):\n",
    "    fac_arr.append(fac[i].text.strip(\"\\n\"))\n",
    "fac_arr"
   ]
  }
 ],
 "metadata": {
  "kernelspec": {
   "display_name": "Python 3.7.10 ('venv': venv)",
   "language": "python",
   "name": "python3"
  },
  "language_info": {
   "codemirror_mode": {
    "name": "ipython",
    "version": 3
   },
   "file_extension": ".py",
   "mimetype": "text/x-python",
   "name": "python",
   "nbconvert_exporter": "python",
   "pygments_lexer": "ipython3",
   "version": "3.7.10"
  },
  "orig_nbformat": 4,
  "vscode": {
   "interpreter": {
    "hash": "0f1e2948ecd435d39054d8f19c990509ba31ce26c60ca46bda64f26c591f1dc7"
   }
  }
 },
 "nbformat": 4,
 "nbformat_minor": 2
}
